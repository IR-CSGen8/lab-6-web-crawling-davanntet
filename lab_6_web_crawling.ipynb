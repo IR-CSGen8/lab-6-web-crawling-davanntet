{
 "cells": [
  {
   "cell_type": "code",
   "execution_count": 1,
   "id": "d05f4286",
   "metadata": {
    "ExecuteTime": {
     "end_time": "2023-10-26T06:13:19.003016200Z",
     "start_time": "2023-10-26T06:13:07.509274800Z"
    }
   },
   "outputs": [
    {
     "name": "stdout",
     "output_type": "stream",
     "text": [
      "Requirement already satisfied: holoviews in c:\\users\\davan\\anaconda3\\lib\\site-packages (1.17.0)\n",
      "Requirement already satisfied: param<3.0,>=1.12.0 in c:\\users\\davan\\anaconda3\\lib\\site-packages (from holoviews) (1.13.0)\n",
      "Requirement already satisfied: numpy>=1.0 in c:\\users\\davan\\anaconda3\\lib\\site-packages (from holoviews) (1.24.3)\n",
      "Requirement already satisfied: pyviz-comms>=0.7.4 in c:\\users\\davan\\anaconda3\\lib\\site-packages (from holoviews) (2.3.0)\n",
      "Requirement already satisfied: panel>=0.13.1 in c:\\users\\davan\\anaconda3\\lib\\site-packages (from holoviews) (1.2.1)\n",
      "Requirement already satisfied: colorcet in c:\\users\\davan\\anaconda3\\lib\\site-packages (from holoviews) (3.0.1)\n",
      "Requirement already satisfied: packaging in c:\\users\\davan\\anaconda3\\lib\\site-packages (from holoviews) (23.0)\n",
      "Requirement already satisfied: pandas>=0.20.0 in c:\\users\\davan\\anaconda3\\lib\\site-packages (from holoviews) (2.0.3)\n",
      "Requirement already satisfied: python-dateutil>=2.8.2 in c:\\users\\davan\\anaconda3\\lib\\site-packages (from pandas>=0.20.0->holoviews) (2.8.2)\n",
      "Requirement already satisfied: pytz>=2020.1 in c:\\users\\davan\\anaconda3\\lib\\site-packages (from pandas>=0.20.0->holoviews) (2022.7)\n",
      "Requirement already satisfied: tzdata>=2022.1 in c:\\users\\davan\\anaconda3\\lib\\site-packages (from pandas>=0.20.0->holoviews) (2023.3)\n",
      "Requirement already satisfied: bokeh<3.3.0,>=3.1.1 in c:\\users\\davan\\anaconda3\\lib\\site-packages (from panel>=0.13.1->holoviews) (3.2.1)\n",
      "Requirement already satisfied: xyzservices>=2021.09.1 in c:\\users\\davan\\anaconda3\\lib\\site-packages (from panel>=0.13.1->holoviews) (2022.9.0)\n",
      "Requirement already satisfied: markdown in c:\\users\\davan\\anaconda3\\lib\\site-packages (from panel>=0.13.1->holoviews) (3.4.1)\n",
      "Requirement already satisfied: markdown-it-py in c:\\users\\davan\\anaconda3\\lib\\site-packages (from panel>=0.13.1->holoviews) (2.2.0)\n",
      "Requirement already satisfied: linkify-it-py in c:\\users\\davan\\anaconda3\\lib\\site-packages (from panel>=0.13.1->holoviews) (2.0.0)\n",
      "Requirement already satisfied: mdit-py-plugins in c:\\users\\davan\\anaconda3\\lib\\site-packages (from panel>=0.13.1->holoviews) (0.3.0)\n",
      "Requirement already satisfied: requests in c:\\users\\davan\\anaconda3\\lib\\site-packages (from panel>=0.13.1->holoviews) (2.31.0)\n",
      "Requirement already satisfied: tqdm>=4.48.0 in c:\\users\\davan\\anaconda3\\lib\\site-packages (from panel>=0.13.1->holoviews) (4.65.0)\n",
      "Requirement already satisfied: bleach in c:\\users\\davan\\anaconda3\\lib\\site-packages (from panel>=0.13.1->holoviews) (4.1.0)\n",
      "Requirement already satisfied: typing-extensions in c:\\users\\davan\\anaconda3\\lib\\site-packages (from panel>=0.13.1->holoviews) (4.7.1)\n",
      "Requirement already satisfied: pyct>=0.4.4 in c:\\users\\davan\\anaconda3\\lib\\site-packages (from colorcet->holoviews) (0.5.0)\n",
      "Requirement already satisfied: Jinja2>=2.9 in c:\\users\\davan\\anaconda3\\lib\\site-packages (from bokeh<3.3.0,>=3.1.1->panel>=0.13.1->holoviews) (3.1.2)\n",
      "Requirement already satisfied: contourpy>=1 in c:\\users\\davan\\anaconda3\\lib\\site-packages (from bokeh<3.3.0,>=3.1.1->panel>=0.13.1->holoviews) (1.0.5)\n",
      "Requirement already satisfied: pillow>=7.1.0 in c:\\users\\davan\\anaconda3\\lib\\site-packages (from bokeh<3.3.0,>=3.1.1->panel>=0.13.1->holoviews) (9.4.0)\n",
      "Requirement already satisfied: PyYAML>=3.10 in c:\\users\\davan\\anaconda3\\lib\\site-packages (from bokeh<3.3.0,>=3.1.1->panel>=0.13.1->holoviews) (6.0)\n",
      "Requirement already satisfied: tornado>=5.1 in c:\\users\\davan\\anaconda3\\lib\\site-packages (from bokeh<3.3.0,>=3.1.1->panel>=0.13.1->holoviews) (6.3.2)\n",
      "Requirement already satisfied: six>=1.5 in c:\\users\\davan\\anaconda3\\lib\\site-packages (from python-dateutil>=2.8.2->pandas>=0.20.0->holoviews) (1.16.0)\n",
      "Requirement already satisfied: colorama in c:\\users\\davan\\anaconda3\\lib\\site-packages (from tqdm>=4.48.0->panel>=0.13.1->holoviews) (0.4.6)\n",
      "Requirement already satisfied: webencodings in c:\\users\\davan\\anaconda3\\lib\\site-packages (from bleach->panel>=0.13.1->holoviews) (0.5.1)\n",
      "Requirement already satisfied: uc-micro-py in c:\\users\\davan\\anaconda3\\lib\\site-packages (from linkify-it-py->panel>=0.13.1->holoviews) (1.0.1)\n",
      "Requirement already satisfied: mdurl~=0.1 in c:\\users\\davan\\anaconda3\\lib\\site-packages (from markdown-it-py->panel>=0.13.1->holoviews) (0.1.0)\n",
      "Requirement already satisfied: charset-normalizer<4,>=2 in c:\\users\\davan\\anaconda3\\lib\\site-packages (from requests->panel>=0.13.1->holoviews) (2.0.4)\n",
      "Requirement already satisfied: idna<4,>=2.5 in c:\\users\\davan\\anaconda3\\lib\\site-packages (from requests->panel>=0.13.1->holoviews) (3.4)\n",
      "Requirement already satisfied: urllib3<3,>=1.21.1 in c:\\users\\davan\\anaconda3\\lib\\site-packages (from requests->panel>=0.13.1->holoviews) (1.26.16)\n",
      "Requirement already satisfied: certifi>=2017.4.17 in c:\\users\\davan\\anaconda3\\lib\\site-packages (from requests->panel>=0.13.1->holoviews) (2023.7.22)\n",
      "Requirement already satisfied: MarkupSafe>=2.0 in c:\\users\\davan\\anaconda3\\lib\\site-packages (from Jinja2>=2.9->bokeh<3.3.0,>=3.1.1->panel>=0.13.1->holoviews) (2.1.1)\n"
     ]
    }
   ],
   "source": [
    "!pip install holoviews"
   ]
  },
  {
   "cell_type": "code",
   "execution_count": 2,
   "id": "1185aef4",
   "metadata": {
    "ExecuteTime": {
     "end_time": "2023-10-26T06:13:33.833690600Z",
     "start_time": "2023-10-26T06:13:25.449143600Z"
    }
   },
   "outputs": [
    {
     "name": "stdout",
     "output_type": "stream",
     "text": [
      "Requirement already satisfied: networkx in c:\\users\\davan\\anaconda3\\lib\\site-packages (3.1)\n"
     ]
    }
   ],
   "source": [
    "!pip install networkx"
   ]
  },
  {
   "cell_type": "code",
   "execution_count": 29,
   "id": "adcd55ac",
   "metadata": {
    "ExecuteTime": {
     "end_time": "2023-10-26T06:35:18.677208200Z",
     "start_time": "2023-10-26T06:35:18.666998500Z"
    }
   },
   "outputs": [],
   "source": [
    "import re\n",
    "import requests\n",
    "import pandas as pd\n",
    "import holoviews as hv\n",
    "import networkx as nx\n",
    "from holoviews import opts\n",
    "from bs4 import BeautifulSoup\n",
    "from urllib.request import urljoin\n",
    "import numpy as np\n",
    "from urllib.parse import urlparse"
   ]
  },
  {
   "cell_type": "code",
   "execution_count": 46,
   "outputs": [],
   "source": [
    "def get_google_service_name(url):\n",
    "    parsed_url = urlparse(url)\n",
    "    subdomain = parsed_url.netloc.split('.')[0]\n",
    "    return subdomain"
   ],
   "metadata": {
    "collapsed": false,
    "ExecuteTime": {
     "end_time": "2023-10-26T06:48:05.426343600Z",
     "start_time": "2023-10-26T06:48:05.415769600Z"
    }
   },
   "id": "528b453b2fa91292"
  },
  {
   "cell_type": "code",
   "execution_count": 47,
   "id": "40bc10bd",
   "metadata": {
    "ExecuteTime": {
     "end_time": "2023-10-26T06:49:11.849885900Z",
     "start_time": "2023-10-26T06:48:07.898146500Z"
    }
   },
   "outputs": [],
   "source": [
    "sites = \"https://www.google.com/\" #@param {type:\"string\"}\n",
    "depth = 3 #@param {type:\"slider\", min:1, max:10, step:1}\n",
    "max_child = 10 #@param {type:\"slider\", min:1, max:100, step:1}\n",
    "\n",
    "def crawl(sites, depth=1, current_depth=0, max_child=10):\n",
    "    get_links = lambda site: pd.Series(urljoin(site, tag.get('href')) for tag in BeautifulSoup(requests.get(site).text).find_all('a')).drop_duplicates().head(max_child)\n",
    "    sites = pd.concat([sites,pd.DataFrame([{'link': link, 'parent': site, 'depth': current_depth + 1}\n",
    "                                          for site in sites[sites.depth == current_depth].link\n",
    "                                          for link in get_links(site)])],ignore_index=True).drop_duplicates('link')\n",
    "\n",
    "\n",
    "    if depth > current_depth + 1:\n",
    "        return crawl(sites, depth=depth, current_depth=current_depth+1, max_child=max_child)\n",
    "    else:\n",
    "        return sites\n",
    "\n",
    "\n",
    "result = crawl(sites=pd.DataFrame([{'link': site, 'depth': 0, 'parent': site} for site in sites.split()]), \n",
    "               max_child=max_child,\n",
    "               depth=depth)"
   ]
  },
  {
   "cell_type": "code",
   "execution_count": 48,
   "id": "6c7ceb7a",
   "metadata": {
    "ExecuteTime": {
     "end_time": "2023-10-26T06:49:11.866497200Z",
     "start_time": "2023-10-26T06:49:11.852887900Z"
    }
   },
   "outputs": [
    {
     "data": {
      "text/plain": "                                                  link  depth  \\\n0                              https://www.google.com/      0   \n1            https://www.google.com/imghp?hl=km&tab=wi      1   \n2         https://maps.google.com.kh/maps?hl=km&tab=wl      1   \n3                https://play.google.com/?hl=km&tab=w8      1   \n4                      https://news.google.com/?tab=wn      1   \n..                                                 ...    ...   \n489  https://accounts.google.com/ServiceLogin?hl=en...      3   \n492  https://support.google.com/websearch/community...      3   \n495  https://support.google.com/websearch/?p=result...      3   \n499  https://accounts.google.com/ServiceLogin?hl=en...      3   \n502  https://support.google.com/websearch/community...      3   \n\n                                                parent  \n0                              https://www.google.com/  \n1                              https://www.google.com/  \n2                              https://www.google.com/  \n3                              https://www.google.com/  \n4                              https://www.google.com/  \n..                                                 ...  \n489  https://support.google.com/websearch/?p=displa...  \n492  https://support.google.com/websearch/?p=displa...  \n495  https://support.google.com/websearch/?p=result...  \n499  https://support.google.com/websearch/?p=result...  \n502  https://support.google.com/websearch/?p=result...  \n\n[225 rows x 3 columns]",
      "text/html": "<div>\n<style scoped>\n    .dataframe tbody tr th:only-of-type {\n        vertical-align: middle;\n    }\n\n    .dataframe tbody tr th {\n        vertical-align: top;\n    }\n\n    .dataframe thead th {\n        text-align: right;\n    }\n</style>\n<table border=\"1\" class=\"dataframe\">\n  <thead>\n    <tr style=\"text-align: right;\">\n      <th></th>\n      <th>link</th>\n      <th>depth</th>\n      <th>parent</th>\n    </tr>\n  </thead>\n  <tbody>\n    <tr>\n      <th>0</th>\n      <td>https://www.google.com/</td>\n      <td>0</td>\n      <td>https://www.google.com/</td>\n    </tr>\n    <tr>\n      <th>1</th>\n      <td>https://www.google.com/imghp?hl=km&amp;tab=wi</td>\n      <td>1</td>\n      <td>https://www.google.com/</td>\n    </tr>\n    <tr>\n      <th>2</th>\n      <td>https://maps.google.com.kh/maps?hl=km&amp;tab=wl</td>\n      <td>1</td>\n      <td>https://www.google.com/</td>\n    </tr>\n    <tr>\n      <th>3</th>\n      <td>https://play.google.com/?hl=km&amp;tab=w8</td>\n      <td>1</td>\n      <td>https://www.google.com/</td>\n    </tr>\n    <tr>\n      <th>4</th>\n      <td>https://news.google.com/?tab=wn</td>\n      <td>1</td>\n      <td>https://www.google.com/</td>\n    </tr>\n    <tr>\n      <th>...</th>\n      <td>...</td>\n      <td>...</td>\n      <td>...</td>\n    </tr>\n    <tr>\n      <th>489</th>\n      <td>https://accounts.google.com/ServiceLogin?hl=en...</td>\n      <td>3</td>\n      <td>https://support.google.com/websearch/?p=displa...</td>\n    </tr>\n    <tr>\n      <th>492</th>\n      <td>https://support.google.com/websearch/community...</td>\n      <td>3</td>\n      <td>https://support.google.com/websearch/?p=displa...</td>\n    </tr>\n    <tr>\n      <th>495</th>\n      <td>https://support.google.com/websearch/?p=result...</td>\n      <td>3</td>\n      <td>https://support.google.com/websearch/?p=result...</td>\n    </tr>\n    <tr>\n      <th>499</th>\n      <td>https://accounts.google.com/ServiceLogin?hl=en...</td>\n      <td>3</td>\n      <td>https://support.google.com/websearch/?p=result...</td>\n    </tr>\n    <tr>\n      <th>502</th>\n      <td>https://support.google.com/websearch/community...</td>\n      <td>3</td>\n      <td>https://support.google.com/websearch/?p=result...</td>\n    </tr>\n  </tbody>\n</table>\n<p>225 rows × 3 columns</p>\n</div>"
     },
     "execution_count": 48,
     "metadata": {},
     "output_type": "execute_result"
    }
   ],
   "source": [
    "result"
   ]
  },
  {
   "cell_type": "code",
   "execution_count": 24,
   "id": "d5785be6",
   "metadata": {
    "ExecuteTime": {
     "end_time": "2023-10-26T06:32:38.071414100Z",
     "start_time": "2023-10-26T06:32:38.068402600Z"
    }
   },
   "outputs": [],
   "source": [
    "# this is just the example scenarios\n",
    "# from the results you can see the links \"https://support.google.com/websearch\", \"https://play.google.com\"\n",
    "# it could be the all services google site"
   ]
  },
  {
   "cell_type": "code",
   "execution_count": 94,
   "id": "a41cc653",
   "metadata": {
    "ExecuteTime": {
     "end_time": "2023-10-26T07:12:51.234499800Z",
     "start_time": "2023-10-26T07:12:51.222052100Z"
    }
   },
   "outputs": [],
   "source": [
    "#Task : write the regular expression to get all the services of google\n",
    "services = [get_google_service_name(x) for x in np.asarray(result['link'])]\n",
    "while services.count('www') > 0:\n",
    "    services.remove('www')\n",
    "df_services = pd.DataFrame(services).value_counts().to_frame()"
   ]
  },
  {
   "cell_type": "code",
   "execution_count": 101,
   "id": "400e50d1",
   "metadata": {
    "ExecuteTime": {
     "end_time": "2023-10-26T07:13:40.953733700Z",
     "start_time": "2023-10-26T07:13:40.943235600Z"
    }
   },
   "outputs": [],
   "source": [
    "df_services.set_index(df_services.index.rename('index'), inplace=True)"
   ]
  },
  {
   "cell_type": "code",
   "execution_count": 102,
   "outputs": [
    {
     "data": {
      "text/plain": "                count\nindex                \naccounts           29\nsupport            24\nplay               22\nnews               17\ndrive              17\nsustainability     11\nsafety             11\ncrisisresponse      8\nmyaccount           8\npolicies            7\nlearning            6\nmail                6\nmaps                4\ncalendar            2\nblog                2\nadmin               1\nconsole             1\nclassroom           1\ntrends              1\nworkspace           1",
      "text/html": "<div>\n<style scoped>\n    .dataframe tbody tr th:only-of-type {\n        vertical-align: middle;\n    }\n\n    .dataframe tbody tr th {\n        vertical-align: top;\n    }\n\n    .dataframe thead th {\n        text-align: right;\n    }\n</style>\n<table border=\"1\" class=\"dataframe\">\n  <thead>\n    <tr style=\"text-align: right;\">\n      <th></th>\n      <th>count</th>\n    </tr>\n    <tr>\n      <th>index</th>\n      <th></th>\n    </tr>\n  </thead>\n  <tbody>\n    <tr>\n      <th>accounts</th>\n      <td>29</td>\n    </tr>\n    <tr>\n      <th>support</th>\n      <td>24</td>\n    </tr>\n    <tr>\n      <th>play</th>\n      <td>22</td>\n    </tr>\n    <tr>\n      <th>news</th>\n      <td>17</td>\n    </tr>\n    <tr>\n      <th>drive</th>\n      <td>17</td>\n    </tr>\n    <tr>\n      <th>sustainability</th>\n      <td>11</td>\n    </tr>\n    <tr>\n      <th>safety</th>\n      <td>11</td>\n    </tr>\n    <tr>\n      <th>crisisresponse</th>\n      <td>8</td>\n    </tr>\n    <tr>\n      <th>myaccount</th>\n      <td>8</td>\n    </tr>\n    <tr>\n      <th>policies</th>\n      <td>7</td>\n    </tr>\n    <tr>\n      <th>learning</th>\n      <td>6</td>\n    </tr>\n    <tr>\n      <th>mail</th>\n      <td>6</td>\n    </tr>\n    <tr>\n      <th>maps</th>\n      <td>4</td>\n    </tr>\n    <tr>\n      <th>calendar</th>\n      <td>2</td>\n    </tr>\n    <tr>\n      <th>blog</th>\n      <td>2</td>\n    </tr>\n    <tr>\n      <th>admin</th>\n      <td>1</td>\n    </tr>\n    <tr>\n      <th>console</th>\n      <td>1</td>\n    </tr>\n    <tr>\n      <th>classroom</th>\n      <td>1</td>\n    </tr>\n    <tr>\n      <th>trends</th>\n      <td>1</td>\n    </tr>\n    <tr>\n      <th>workspace</th>\n      <td>1</td>\n    </tr>\n  </tbody>\n</table>\n</div>"
     },
     "execution_count": 102,
     "metadata": {},
     "output_type": "execute_result"
    }
   ],
   "source": [
    "df_services"
   ],
   "metadata": {
    "collapsed": false,
    "ExecuteTime": {
     "end_time": "2023-10-26T07:13:52.263329400Z",
     "start_time": "2023-10-26T07:13:52.249195300Z"
    }
   },
   "id": "36f07934ea3c5ade"
  },
  {
   "cell_type": "code",
   "execution_count": 119,
   "id": "703fe53e",
   "metadata": {
    "ExecuteTime": {
     "end_time": "2023-10-26T07:18:26.712710Z",
     "start_time": "2023-10-26T07:18:26.162298900Z"
    }
   },
   "outputs": [
    {
     "data": {
      "text/plain": "<Figure size 3000x1000 with 1 Axes>",
      "image/png": "[encoded data removed]"
     },
     "metadata": {},
     "output_type": "display_data"
    }
   ],
   "source": [
    "#Task : Visualize the services : - how many services that google have?\n",
    "import matplotlib.pyplot as plt\n",
    "plt.figure(figsize=(30,10))\n",
    "plt.bar(df_services.index, df_services['count'])\n",
    "plt.title('Google Services')\n",
    "plt.xlabel('Services')\n",
    "plt.ylabel('Count')\n",
    "#show number of services\n",
    "for i, v in enumerate(df_services['count']):\n",
    "    plt.text(i, v, str(v), color='blue', fontweight='bold')"
   ]
  },
  {
   "cell_type": "code",
   "execution_count": null,
   "id": "bbe5e8a1",
   "metadata": {},
   "outputs": [],
   "source": []
  },
  {
   "cell_type": "code",
   "execution_count": null,
   "id": "816d03fc",
   "metadata": {},
   "outputs": [],
   "source": []
  },
  {
   "cell_type": "code",
   "execution_count": 66,
   "id": "5fe78ac9",
   "metadata": {
    "ExecuteTime": {
     "end_time": "2023-10-26T06:51:37.379452400Z",
     "start_time": "2023-10-26T06:51:37.358694500Z"
    }
   },
   "outputs": [
    {
     "data": {
      "text/plain": "{'accounts',\n 'admin',\n 'blog',\n 'calendar',\n 'classroom',\n 'console',\n 'crisisresponse',\n 'drive',\n 'learning',\n 'mail',\n 'maps',\n 'myaccount',\n 'news',\n 'play',\n 'policies',\n 'safety',\n 'support',\n 'sustainability',\n 'trends',\n 'workspace'}"
     },
     "execution_count": 66,
     "metadata": {},
     "output_type": "execute_result"
    }
   ],
   "source": [
    "services"
   ]
  },
  {
   "cell_type": "code",
   "execution_count": 41,
   "id": "59fd37a8",
   "metadata": {
    "ExecuteTime": {
     "end_time": "2023-10-26T06:43:40.424998600Z",
     "start_time": "2023-10-26T06:43:40.380000600Z"
    }
   },
   "outputs": [
    {
     "name": "stdout",
     "output_type": "stream",
     "text": [
      "The service name is: maps\n"
     ]
    }
   ],
   "source": [
    "\n"
   ]
  }
 ],
 "metadata": {
  "kernelspec": {
   "display_name": "Python 3",
   "language": "python",
   "name": "python3"
  },
  "language_info": {
   "codemirror_mode": {
    "name": "ipython",
    "version": 3
   },
   "file_extension": ".py",
   "mimetype": "text/x-python",
   "name": "python",
   "nbconvert_exporter": "python",
   "pygments_lexer": "ipython3",
   "version": "3.11.6"
  }
 },
 "nbformat": 4,
 "nbformat_minor": 5
}
